{
 "cells": [
  {
   "cell_type": "code",
   "execution_count": null,
   "metadata": {},
   "outputs": [],
   "source": [
    "from typing import *\n",
    "\n",
    "class Solution:\n",
    "    def findMaxK(self, nums: List[int]) -> int:\n",
    "        nums = set(nums)\n",
    "        return max((num for num in nums if num > 0 and -num in nums), default= -1)"
   ]
  },
  {
   "cell_type": "code",
   "execution_count": null,
   "metadata": {},
   "outputs": [],
   "source": [
    "class Solution:\n",
    "    def findMaxK(self, nums: List[int]) -> int:\n",
    "        s = set(nums)\n",
    "        while s:\n",
    "            m = max(s)\n",
    "            if -m in s:\n",
    "                return abs(m)\n",
    "            s.remove(m)\n",
    "        return -1"
   ]
  }
 ],
 "metadata": {
  "language_info": {
   "name": "python"
  }
 },
 "nbformat": 4,
 "nbformat_minor": 2
}
