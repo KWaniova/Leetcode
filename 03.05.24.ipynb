{
 "cells": [
  {
   "cell_type": "code",
   "execution_count": 1,
   "metadata": {},
   "outputs": [
    {
     "name": "stdout",
     "output_type": "stream",
     "text": [
      "0\n",
      "0\n",
      "-1\n",
      "1\n"
     ]
    }
   ],
   "source": [
    "class Solution:\n",
    "    def compareVersion(self, version1: str, version2: str) -> int:\n",
    "        version1 = version1.split(\".\")\n",
    "        version2 = version2.split(\".\")\n",
    "        i = 0\n",
    "        while i < len(version1) and i < len(version2):\n",
    "            if int(version1[i]) > int(version2[i]):\n",
    "                return 1\n",
    "            elif int(version1[i]) < int(version2[i]):\n",
    "                return -1\n",
    "            i += 1\n",
    "        while i < len(version1):\n",
    "            if int(version1[i]) > 0:\n",
    "                return 1\n",
    "            i += 1\n",
    "        while i < len(version2):\n",
    "            if int(version2[i]) > 0:\n",
    "                return -1\n",
    "            i += 1\n",
    "        return 0\n",
    "s = Solution()\n",
    "print(s.compareVersion(\"1.01\", \"1.001\"))\n",
    "print(s.compareVersion(\"1.0\", \"1.0.0\"))\n",
    "print(s.compareVersion(\"0.1\", \"1.1\"))\n",
    "print(s.compareVersion(\"1.0.1\", \"1\"))"
   ]
  }
 ],
 "metadata": {
  "kernelspec": {
   "display_name": "Python 3",
   "language": "python",
   "name": "python3"
  },
  "language_info": {
   "codemirror_mode": {
    "name": "ipython",
    "version": 3
   },
   "file_extension": ".py",
   "mimetype": "text/x-python",
   "name": "python",
   "nbconvert_exporter": "python",
   "pygments_lexer": "ipython3",
   "version": "3.8.19"
  }
 },
 "nbformat": 4,
 "nbformat_minor": 2
}
