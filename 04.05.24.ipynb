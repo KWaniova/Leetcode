{
 "cells": [
  {
   "cell_type": "code",
   "execution_count": null,
   "metadata": {},
   "outputs": [],
   "source": [
    "class Solution:\n",
    "    def numRescueBoats(self, people: List[int], limit: int) -> int:\n",
    "        people.sort()\n",
    "        left, right = 0, len(people) - 1\n",
    "        res = 0\n",
    "        while left <= right:\n",
    "            if people[left] + people[right] <= limit:\n",
    "                left += 1\n",
    "            right -= 1\n",
    "            res += 1\n",
    "        return res"
   ]
  }
 ],
 "metadata": {
  "language_info": {
   "name": "python"
  }
 },
 "nbformat": 4,
 "nbformat_minor": 2
}
