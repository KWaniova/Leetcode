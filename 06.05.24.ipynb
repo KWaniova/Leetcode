{
 "cells": [
  {
   "cell_type": "code",
   "execution_count": null,
   "metadata": {},
   "outputs": [],
   "source": [
    "from typing import *\n",
    "# Definition for singly-linked list.\n",
    "# class ListNode:\n",
    "#     def __init__(self, val=0, next=None):\n",
    "#         self.val = val\n",
    "#         self.next = next\n",
    "class Solution:\n",
    "    def removeNodes(self, head: Optional[ListNode]) -> Optional[ListNode]:\n",
    "        next_node = head.next\n",
    "        actual_node = head\n",
    "        prev_nodes = deque()\n",
    "        while next_node != None:\n",
    "            if actual_node.val < next_node.val:\n",
    "                if len(prev_nodes) == 0:\n",
    "                    actual_node.next = None\n",
    "                else:\n",
    "                    p = prev_nodes.pop()\n",
    "                    p.next = next_node\n",
    "                    actual_node = p\n",
    "                    continue\n",
    "            else:\n",
    "                prev_nodes.append(actual_node)\n",
    "            actual_node = next_node\n",
    "            next_node = next_node.next\n",
    "        return prev_nodes.popleft() if len(prev_nodes) > 0 else actual_node\n"
   ]
  }
 ],
 "metadata": {
  "language_info": {
   "name": "python"
  }
 },
 "nbformat": 4,
 "nbformat_minor": 2
}
