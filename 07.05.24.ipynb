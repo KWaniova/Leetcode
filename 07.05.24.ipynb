{
 "cells": [
  {
   "cell_type": "code",
   "execution_count": null,
   "metadata": {},
   "outputs": [],
   "source": [
    "# Definition for singly-linked list.\n",
    "# class ListNode:\n",
    "#     def __init__(self, val=0, next=None):\n",
    "#         self.val = val\n",
    "#         self.next = next\n",
    "class Solution:\n",
    "    def doubleIt(self, head: Optional[ListNode]) -> Optional[ListNode]:\n",
    "        q = str(head.val)\n",
    "        while head.next:\n",
    "            q += str(head.next.val)\n",
    "            head = head.next\n",
    "        app = 0\n",
    "        actual = None\n",
    "        for i in q[::-1]:\n",
    "            new_value = app + 2 * int(i)\n",
    "            if new_value > 9:\n",
    "                s = str(new_value)\n",
    "                new_value = new_value % 10\n",
    "                app = int(s[0])\n",
    "            else:\n",
    "                app = 0\n",
    "            new_node = ListNode(new_value,actual)\n",
    "            actual = new_node\n",
    "        if app > 0:\n",
    "            new_node = ListNode(app,actual)\n",
    "            actual = new_node\n",
    "        return actual\n"
   ]
  },
  {
   "cell_type": "code",
   "execution_count": null,
   "metadata": {},
   "outputs": [],
   "source": [
    "# Definition for singly-linked list.\n",
    "# class ListNode:\n",
    "#     def __init__(self, val=0, next=None):\n",
    "#         self.val = val\n",
    "#         self.next = next\n",
    "class Solution:\n",
    "    def doubleIt(self, head: Optional[ListNode]) -> Optional[ListNode]:\n",
    "        if head.val > 4:\n",
    "            head = ListNode(0, head)\n",
    "        node = head\n",
    "        while node:\n",
    "            node.val = (node.val * 2) % 10\n",
    "            if node.next and node.next.val > 4:\n",
    "                node.val += 1\n",
    "            node = node.next\n",
    "        return head"
   ]
  }
 ],
 "metadata": {
  "language_info": {
   "name": "python"
  }
 },
 "nbformat": 4,
 "nbformat_minor": 2
}
