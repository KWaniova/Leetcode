{
 "cells": [
  {
   "cell_type": "code",
   "execution_count": null,
   "metadata": {},
   "outputs": [],
   "source": [
    "class Solution:\n",
    "    def findRelativeRanks(self, score: List[int]) -> List[str]:\n",
    "        with_indexes = [(score[i],i) for i in range(len(score))]\n",
    "        with_indexes = sorted(with_indexes,key=lambda x: x[0], reverse=True)\n",
    "        medals = [\"Gold Medal\",\"Silver Medal\",\"Bronze Medal\"]\n",
    "        for medal, x in zip(medals, with_indexes[:3]):\n",
    "            score[x[1]] = medal\n",
    "        medal = 4\n",
    "        for _, idx in with_indexes[3:]:\n",
    "            score[idx] = str(medal)\n",
    "            medal+=1\n",
    "        return score"
   ]
  },
  {
   "cell_type": "code",
   "execution_count": null,
   "metadata": {},
   "outputs": [],
   "source": [
    "#??\n",
    "class Solution:\n",
    "    def findRelativeRanks(self, score: List[int]) -> List[str]:\n",
    "        placements = {}\n",
    "        sorted_s = sorted(score, reverse=True)\n",
    "        for i,s in enumerate(sorted_s):\n",
    "            placements[s] = \"Gold Medal\" if i==0 else \"Silver Medal\" if i==1 else \"Bronze Medal\" if i==2 else str(i+1)\n",
    "\n",
    "        return [placements[s] for s in score]"
   ]
  }
 ],
 "metadata": {
  "language_info": {
   "name": "python"
  }
 },
 "nbformat": 4,
 "nbformat_minor": 2
}
