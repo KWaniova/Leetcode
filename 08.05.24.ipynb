{
 "cells": [
  {
   "cell_type": "code",
   "execution_count": null,
   "metadata": {},
   "outputs": [],
   "source": [
    "class Solution:\n",
    "    def findRelativeRanks(self, score: List[int]) -> List[str]:\n",
    "        with_indexes = [(score[i],i) for i in range(len(score))]\n",
    "        with_indexes = sorted(with_indexes,key=lambda x: x[0], reverse=True)\n",
    "        medals = [\"Gold Medal\",\"Silver Medal\",\"Bronze Medal\"]\n",
    "        for medal, x in zip(medals, with_indexes[:3]):\n",
    "            score[x[1]] = medal\n",
    "        medal = 4\n",
    "        for _, idx in with_indexes[3:]:\n",
    "            score[idx] = str(medal)\n",
    "            medal+=1\n",
    "        return score"
   ]
  }
 ],
 "metadata": {
  "language_info": {
   "name": "python"
  }
 },
 "nbformat": 4,
 "nbformat_minor": 2
}
