{
 "cells": [
  {
   "cell_type": "code",
   "execution_count": null,
   "metadata": {},
   "outputs": [],
   "source": [
    "from typing import *\n",
    "\n",
    "class Solution:\n",
    "    def maximumHappinessSum(self, happiness: List[int], k: int) -> int:\n",
    "        happiness = sorted(happiness, reverse=True)\n",
    "        idx, result ,decressing = 0, 0, 0\n",
    "        for x in range(k):\n",
    "            child = happiness[idx] - idx\n",
    "            result += child if child > 0 else 0\n",
    "            idx += 1\n",
    "        return result\n"
   ]
  }
 ],
 "metadata": {
  "language_info": {
   "name": "python"
  }
 },
 "nbformat": 4,
 "nbformat_minor": 2
}
