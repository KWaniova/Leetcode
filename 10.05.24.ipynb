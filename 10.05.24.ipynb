{
 "cells": [
  {
   "cell_type": "code",
   "execution_count": null,
   "metadata": {},
   "outputs": [],
   "source": [
    "#Max heap:\n",
    "\n",
    "class Solution:\n",
    "    def kthSmallestPrimeFraction(self, arr: List[int], k: int) -> List[int]:\n",
    "        fractions = []\n",
    "        for i in range(len(arr)):\n",
    "            for j in range(i+1, len(arr)):\n",
    "                if len(fractions) < k :\n",
    "                    heappush(fractions,(-arr[i]/arr[j],[arr[i], arr[j]]))\n",
    "                else:\n",
    "                    heappushpop(fractions, (- arr[i] / arr[j],[arr[i], arr[j]]))\n",
    "        return heappop(fractions)[1]\n",
    "\n",
    "#Time complexity is O(n^2 * log(k)) and space complexity is O(k)"
   ]
  },
  {
   "cell_type": "code",
   "execution_count": null,
   "metadata": {},
   "outputs": [],
   "source": [
    "#min heap:\n",
    "class Solution:\n",
    "    def kthSmallestPrimeFraction(self, arr: List[int], k: int) -> List[int]:\n",
    "        fractions = []\n",
    "        for i in range(len(arr)):\n",
    "            for j in range(i+1, len(arr)):\n",
    "                heappush(fractions,(arr[i]/arr[j],[arr[i], arr[j]]))\n",
    "        # Pop k-1 smallest fractions\n",
    "        for _ in range(k - 1):\n",
    "            heappop(fractions)\n",
    "        return heappop(fractions)[1]"
   ]
  },
  {
   "cell_type": "code",
   "execution_count": null,
   "metadata": {},
   "outputs": [],
   "source": [
    "#array:\n",
    "class Solution:\n",
    "    def kthSmallestPrimeFraction(self, arr: List[int], k: int) -> List[int]:\n",
    "        fractions = []\n",
    "        for i in range(len(arr)):\n",
    "            idx = i+1\n",
    "            for j in range(idx, len(arr)):\n",
    "                fractions.append((arr[i]/arr[j],[arr[i], arr[j]]))\n",
    "        fractions= sorted(fractions, key=lambda x: x[0])\n",
    "        return fractions[k-1][1] if k-1 < len(fractions) else []"
   ]
  },
  {
   "cell_type": "code",
   "execution_count": null,
   "metadata": {},
   "outputs": [],
   "source": []
  }
 ],
 "metadata": {
  "language_info": {
   "name": "python"
  }
 },
 "nbformat": 4,
 "nbformat_minor": 2
}
