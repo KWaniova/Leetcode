{
 "cells": [
  {
   "cell_type": "code",
   "execution_count": null,
   "metadata": {},
   "outputs": [],
   "source": [
    "class Solution:\n",
    "    def largestLocal(self, grid: List[List[int]]) -> List[List[int]]:\n",
    "        i,j,k = 0,0, 3\n",
    "        result = []\n",
    "        while i+k <= len(grid):\n",
    "            actual_row = grid[i]\n",
    "            result_row = []\n",
    "            j = 0\n",
    "            while j + k <= len(actual_row):\n",
    "                result_row.append(self.find_max_in_row(grid,i,j))\n",
    "                j+=1\n",
    "            result.append(result_row)\n",
    "            i+=1\n",
    "        return result\n",
    "\n",
    "    def find_max_in_row(self, grid, i , j, k=3):\n",
    "        max_value = 0\n",
    "        end_col = j + k\n",
    "        end_row = i + k\n",
    "        while i < end_row:\n",
    "            actual_row = grid[i][j:end_col]\n",
    "            max_in_row = max(actual_row)\n",
    "            if max_in_row > max_value:\n",
    "                max_value = max_in_row\n",
    "            i += 1\n",
    "        return max_value"
   ]
  }
 ],
 "metadata": {
  "language_info": {
   "name": "python"
  }
 },
 "nbformat": 4,
 "nbformat_minor": 2
}
