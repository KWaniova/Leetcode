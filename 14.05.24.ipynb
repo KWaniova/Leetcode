{
 "cells": [
  {
   "cell_type": "code",
   "execution_count": null,
   "metadata": {},
   "outputs": [],
   "source": [
    "class Solution:\n",
    "    def getMaximumGold(self, grid: List[List[int]]) -> int:\n",
    "        collected_gold = set([])\n",
    "        i, j = 0, 0\n",
    "        while i < len(grid):\n",
    "            row = grid[i]\n",
    "            j = 0\n",
    "            while j < len(row):\n",
    "                if row[j] > 0:\n",
    "                    suma = self.dfs_sums(grid, i, j)\n",
    "                    collected_gold.add(suma)\n",
    "                j+=1\n",
    "            i+=1\n",
    "        return max(collected_gold) if len(collected_gold) > 0 else 0\n",
    "\n",
    "    def dfs_sums(self, matrix, row, col):\n",
    "        collected_gold = []\n",
    "        visited = deque()\n",
    "        grid = [y[:] for y in matrix]\n",
    "        visited.append((row, col, 0, grid))\n",
    "        while visited:\n",
    "            i,j, suma, grid = visited.popleft()\n",
    "            suma += grid[i][j]\n",
    "            grid[i][j] = 0\n",
    "            top = grid[i-1][j] if i-1 >= 0 else 0\n",
    "            left = grid[i][j-1] if j-1 >= 0 else 0\n",
    "            down = grid[i+1][j] if i+1 < len(grid) else 0\n",
    "            right = grid[i][j+1] if j+1 < len(grid[i]) else 0\n",
    "            if top != 0:\n",
    "                grid_copy = [y[:] for y in grid]\n",
    "                visited.append((i-1,j,suma, grid_copy))\n",
    "            if left != 0:\n",
    "                grid_copy = [y[:] for y in grid]\n",
    "                visited.append((i,j-1,suma, grid_copy))\n",
    "            if down != 0:\n",
    "                grid_copy = [y[:] for y in grid]\n",
    "                visited.append((i+1,j,suma,grid_copy))\n",
    "            if right != 0:\n",
    "                grid_copy = [y[:] for y in grid]\n",
    "                visited.append((i,j+1,suma,grid_copy))\n",
    "            if top ==0 and down==0 and right==0 and left==0:\n",
    "                collected_gold.append(suma)\n",
    "\n",
    "        return max(collected_gold)\n"
   ]
  }
 ],
 "metadata": {
  "language_info": {
   "name": "python"
  }
 },
 "nbformat": 4,
 "nbformat_minor": 2
}
