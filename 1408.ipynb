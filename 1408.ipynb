{
 "cells": [
  {
   "cell_type": "code",
   "execution_count": null,
   "metadata": {
    "vscode": {
     "languageId": "plaintext"
    }
   },
   "outputs": [],
   "source": [
    "class Solution:\n",
    "    def stringMatching(self, words: List[str]) -> List[str]:\n",
    "        res = []\n",
    "        for i in range(len(words)):\n",
    "            word = words[i]\n",
    "            sent = words[:i] + words[i+1:]\n",
    "            sent = \" \".join(sent)\n",
    "            if word in sent:\n",
    "                res.append(word)\n",
    "        return res\n"
   ]
  }
 ],
 "metadata": {
  "language_info": {
   "name": "python"
  }
 },
 "nbformat": 4,
 "nbformat_minor": 2
}
