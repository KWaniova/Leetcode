{
 "cells": [
  {
   "cell_type": "code",
   "execution_count": 16,
   "metadata": {},
   "outputs": [
    {
     "name": "stdout",
     "output_type": "stream",
     "text": [
      "0 2 0 2\n",
      "[[1, 2, 3], [4, 5, 6], [7, 8, 9]]\n",
      "[1, 2, 3]\n",
      "[[1, 2, 3], [7, 8, 9], [1, 2, 3], [7, 8, 9]]\n"
     ]
    },
    {
     "data": {
      "text/plain": [
       "0"
      ]
     },
     "execution_count": 16,
     "metadata": {},
     "output_type": "execute_result"
    }
   ],
   "source": [
    "class Solution:\n",
    "    def maximumSafenessFactor(self, grid) -> int:\n",
    "        # thiefs = self.find_thiefs(grid)\n",
    "        # if (0,0) in thiefs or (len(grid) - 1, len(grid) - 1) in thiefs:\n",
    "        #     return 0\n",
    "        # return self.dfs_path(grid, thiefs)\n",
    "        self.check_radius(grid, 1, 1, 1)\n",
    "        return 0\n",
    "\n",
    "    def factor(self, x, thief):\n",
    "        return abs(x[0] - thief[0]) + abs(x[1] - thief[1])\n",
    "\n",
    "    def find_thiefs(self, grid):\n",
    "        thiefs = set([])\n",
    "        i,j = 0,0\n",
    "        while i < len(grid):\n",
    "            j = 0\n",
    "            while j < len(grid[i]):\n",
    "                if grid[i][j] == 1:\n",
    "                    thiefs.add((i,j))\n",
    "                j += 1\n",
    "            i +=1\n",
    "        return thiefs\n",
    "\n",
    "    def check_radius(self, grid, x, y, radius):\n",
    "        result = radius + 10\n",
    "        start_row = x-radius if x-radius >= 0 else 0\n",
    "        end_row = x+radius if x+radius < len(grid) else len(grid) - 1\n",
    "        start_col = y-radius if y-radius >= 0 else 0\n",
    "        end_col = y+radius if y+radius < len(grid[0]) else len(grid[0]) - 1\n",
    "        print(start_row, end_row, start_col, end_col)\n",
    "        print(grid)\n",
    "        to_check = []\n",
    "        print(grid[start_row:end_row+1][0])\n",
    "        to_check.append(grid[start_row:end_row+1][start_col])\n",
    "        to_check.append(grid[start_row:end_row+1][end_col])\n",
    "        to_check.append( grid[start_row][start_col: end_col +1])\n",
    "        to_check.append( grid[end_row][start_col: end_col + 1])\n",
    "\n",
    "        print(to_check)\n",
    "        for i in range(len(to_check)):\n",
    "            for j in range(len(to_check[i])):\n",
    "                if to_check[i][j] == 3:\n",
    "                    result = min(result, self.factor((start_row + i, start_col + j), (x,y)))\n",
    "        if result == radius + 10:\n",
    "            return -1\n",
    "        return result\n",
    "\n",
    "    def dfs_path(self, matrix, thiefs):\n",
    "        symbol = 3\n",
    "        safeness_arr = []\n",
    "        visited = deque()\n",
    "        grid = [y[:] for y in matrix]\n",
    "        visited.append((0, 0, -1, grid))\n",
    "        while visited:\n",
    "            i,j, max_safeness, grid = visited.popleft()\n",
    "            for thief in thiefs:\n",
    "                f = self.factor((i,j), thief)\n",
    "                max_safeness = f if (max_safeness == -1 or f < max_safeness) else max_safeness\n",
    "\n",
    "            if i >= len(grid) - 1 and j >= len(grid[0]) - 1:\n",
    "                safeness_arr.append(max_safeness)\n",
    "                continue\n",
    "\n",
    "            grid[i][j] = symbol\n",
    "            top = grid[i-1][j] if i-1 >= 0 else symbol\n",
    "            left = grid[i][j-1] if j-1 >= 0 else symbol\n",
    "            down = grid[i+1][j] if i+1 < len(grid) else symbol\n",
    "            right = grid[i][j+1] if j+1 < len(grid[i]) else symbol\n",
    "\n",
    "            if top ==symbol and down==symbol and right==symbol and left==symbol:\n",
    "                continue\n",
    "\n",
    "            if top != symbol:\n",
    "                grid_copy = [y[:] for y in grid]\n",
    "                visited.append((i-1,j,max_safeness, grid_copy))\n",
    "            if left != symbol:\n",
    "                grid_copy = [y[:] for y in grid]\n",
    "                visited.append((i,j-1,max_safeness, grid_copy))\n",
    "            if down != symbol:\n",
    "                grid_copy = [y[:] for y in grid]\n",
    "                visited.append((i+1,j,max_safeness,grid_copy))\n",
    "            if right != symbol:\n",
    "                grid_copy = [y[:] for y in grid]\n",
    "                visited.append((i,j+1,max_safeness,grid_copy))\n",
    "\n",
    "        return max(safeness_arr)\n",
    "\n",
    "\n",
    "\n",
    "\n",
    "s = Solution()\n",
    "s.maximumSafenessFactor([[1,2,3],[4,5,6],[7,8,9]])"
   ]
  }
 ],
 "metadata": {
  "kernelspec": {
   "display_name": "Python 3",
   "language": "python",
   "name": "python3"
  },
  "language_info": {
   "codemirror_mode": {
    "name": "ipython",
    "version": 3
   },
   "file_extension": ".py",
   "mimetype": "text/x-python",
   "name": "python",
   "nbconvert_exporter": "python",
   "pygments_lexer": "ipython3",
   "version": "3.8.19"
  }
 },
 "nbformat": 4,
 "nbformat_minor": 2
}
