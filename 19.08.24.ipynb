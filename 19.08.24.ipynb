{
 "cells": [
  {
   "cell_type": "code",
   "execution_count": null,
   "metadata": {},
   "outputs": [],
   "source": [
    "class Solution:\n",
    "    primes = [2,3,5,7,11,13,17]\n",
    "    def check_prime(self, n: int):\n",
    "        sq = int(n ** 0.5)\n",
    "        for i in range(2, sq+1):\n",
    "            if n % i == 0:\n",
    "                return False\n",
    "        return True\n",
    "\n",
    "\n",
    "    def minSteps(self, n: int) -> int:\n",
    "        steps = 0\n",
    "        while n > 1:\n",
    "            for p in self.primes:\n",
    "                while n%p == 0:\n",
    "                    n = n / p\n",
    "                    steps += p\n",
    "                    break\n",
    "                if p == self.primes[-1] and n > p:\n",
    "                    x = self.primes[-1] + 1\n",
    "                    while not self.check_prime(x):\n",
    "                        x += 1\n",
    "                    self.primes.append(x)\n",
    "                    continue\n",
    "        return steps\n",
    "\n",
    "\n",
    "s = Solution()\n",
    "print(s.minSteps(1))\n"
   ]
  }
 ],
 "metadata": {
  "language_info": {
   "name": "python"
  }
 },
 "nbformat": 4,
 "nbformat_minor": 2
}
