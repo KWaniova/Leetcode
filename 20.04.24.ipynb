{
 "cells": [
  {
   "cell_type": "code",
   "execution_count": 8,
   "metadata": {},
   "outputs": [
    {
     "name": "stdout",
     "output_type": "stream",
     "text": [
      "[[0, 0, 0, 0], [1, 1, 2, 2]]\n",
      "[[0, 0, 0, 0], [0, 5, 0, 6], [0, 10, 0, 12], [0, 14, 0, 14]]\n"
     ]
    }
   ],
   "source": [
    "class Solution:\n",
    "    def findFarmland(self, land):\n",
    "        row = 0\n",
    "        result = []\n",
    "        while row < len(land):\n",
    "            col = 0\n",
    "            while col < len(land[row]):\n",
    "                if land[row][col] == 1:\n",
    "                    top_value = land[row-1][col] if row - 1 >= 0 else 0\n",
    "                    left_value = land[row][col-1] if col - 1 >= 0 else 0\n",
    "                    if top_value == 0 and left_value == 0:\n",
    "                        coors = self.getFarmCoordinates(land, row, col)\n",
    "                        result.append(coors)\n",
    "                        col += coors[-1] - col\n",
    "                col +=1\n",
    "            row +=1\n",
    "        return result\n",
    "\n",
    "\n",
    "    def getFarmCoordinates(self, land,row, col):\n",
    "        coordinates = [row, col]\n",
    "        while col < len(land[row]) and land[row][col] == 1:\n",
    "            col += 1\n",
    "        col -= 1\n",
    "        while row < len(land) and land[row][col] == 1:\n",
    "            row += 1\n",
    "        row -= 1\n",
    "        coordinates.append(row)\n",
    "        coordinates.append(col)\n",
    "        return coordinates\n",
    "\n",
    "s = Solution()\n",
    "\n",
    "print(s.findFarmland([[1,0,0],[0,1,1],[0,1,1]])) #[[0, 0, 0, 0], [1, 1, 2, 2]]\n",
    "print(s.findFarmland([[1,0,0,0,0,1,1,0,0,0,1,1,1,0,1]])) # [[0, 0, 0, 0], [0, 5, 0, 6], [0, 10, 0, 12], [0, 14, 0, 14]]"
   ]
  }
 ],
 "metadata": {
  "kernelspec": {
   "display_name": "Python 3",
   "language": "python",
   "name": "python3"
  },
  "language_info": {
   "codemirror_mode": {
    "name": "ipython",
    "version": 3
   },
   "file_extension": ".py",
   "mimetype": "text/x-python",
   "name": "python",
   "nbconvert_exporter": "python",
   "pygments_lexer": "ipython3",
   "version": "3.8.19"
  }
 },
 "nbformat": 4,
 "nbformat_minor": 2
}
