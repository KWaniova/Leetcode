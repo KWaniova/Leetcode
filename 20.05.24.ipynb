{
 "cells": [
  {
   "cell_type": "code",
   "execution_count": null,
   "metadata": {},
   "outputs": [],
   "source": [
    "class Solution:\n",
    "    def subsetXORSum(self, nums: List[int]) -> int:\n",
    "        n=len(nums)\n",
    "        all_or=0\n",
    "        for i in range(n):\n",
    "            all_or|=nums[i]\n",
    "        return all_or*(1<<(n-1))\n",
    "\n",
    "\n",
    "class Solution:\n",
    "    def subsetXORSum(self, nums: List[int]) -> int:\n",
    "        a = 0\n",
    "        for i in nums:\n",
    "            a|=i\n",
    "        return a* (1<<(len(nums)-1))\n",
    "\n",
    "\n",
    "class Solution:\n",
    "    def subsetXORSum(self, nums: List[int]) -> int:\n",
    "        n=len(nums)\n",
    "        x=0\n",
    "        for i in range(n):\n",
    "            x=x|nums[i]\n",
    "        return x*(1<<(n-1))"
   ]
  },
  {
   "cell_type": "code",
   "execution_count": null,
   "metadata": {},
   "outputs": [],
   "source": [
    "class Solution:\n",
    "    def subsetXORSum(self, nums: List[int]) -> int:\n",
    "        c = combinations(nums, 0)\n",
    "        i,s = 1,0\n",
    "        while i < len(nums)+1:\n",
    "            c = list(combinations(nums, i))\n",
    "            for combination in c:\n",
    "                xor = combination[0]\n",
    "                j = 1\n",
    "                while j < len(combination):\n",
    "                    xor = xor ^ combination[j]\n",
    "                    j+=1\n",
    "                s += xor\n",
    "            i+= 1\n",
    "        return s\n"
   ]
  }
 ],
 "metadata": {
  "language_info": {
   "name": "python"
  }
 },
 "nbformat": 4,
 "nbformat_minor": 2
}
