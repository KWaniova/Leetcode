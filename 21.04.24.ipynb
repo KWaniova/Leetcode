{
 "cells": [
  {
   "cell_type": "code",
   "execution_count": 3,
   "metadata": {},
   "outputs": [
    {
     "name": "stdout",
     "output_type": "stream",
     "text": [
      "True\n"
     ]
    }
   ],
   "source": [
    "from typing import *\n",
    "\n",
    "class Solution:\n",
    "    def validPath(self, n: int, edges: List[List[int]], source: int, destination: int) -> bool:\n",
    "        bucket = {}\n",
    "        if [source, destination] in edges:\n",
    "            return True\n",
    "        for coord in edges:\n",
    "            x = coord[0]\n",
    "            y = coord[1]\n",
    "            if x in bucket.keys():\n",
    "                bucket[x].append(coord)\n",
    "            else: bucket[x] = [coord]\n",
    "            if y in bucket.keys():\n",
    "                bucket[y].append(coord[::-1])\n",
    "            else: bucket[y] = [coord[::-1]]\n",
    "        return self.dfs(bucket, source, destination, [])\n",
    "\n",
    "    def dfs(self, bucket, source: int, destination: int, visited_nodes ):\n",
    "        result = False\n",
    "        if source == destination:\n",
    "            return True\n",
    "        if source in bucket.keys():\n",
    "            for cord in bucket[source]:\n",
    "                if cord[1] not in visited_nodes:\n",
    "                    visited_nodes.append(source)\n",
    "                    result = result or self.dfs(bucket, cord[1], destination,visited_nodes)\n",
    "                    if result:\n",
    "                        break\n",
    "        return result\n",
    "\n",
    "s = Solution()\n",
    "print(s.validPath(3, [[0,1],[1,2],[2,0]], 0, 2))\n"
   ]
  }
 ],
 "metadata": {
  "kernelspec": {
   "display_name": "Python 3",
   "language": "python",
   "name": "python3"
  },
  "language_info": {
   "codemirror_mode": {
    "name": "ipython",
    "version": 3
   },
   "file_extension": ".py",
   "mimetype": "text/x-python",
   "name": "python",
   "nbconvert_exporter": "python",
   "pygments_lexer": "ipython3",
   "version": "3.8.19"
  }
 },
 "nbformat": 4,
 "nbformat_minor": 2
}
