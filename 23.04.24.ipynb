{
 "cells": [
  {
   "cell_type": "code",
   "execution_count": 1,
   "metadata": {},
   "outputs": [
    {
     "ename": "NameError",
     "evalue": "name 'List' is not defined",
     "output_type": "error",
     "traceback": [
      "\u001b[0;31m---------------------------------------------------------------------------\u001b[0m",
      "\u001b[0;31mNameError\u001b[0m                                 Traceback (most recent call last)",
      "Cell \u001b[0;32mIn[1], line 1\u001b[0m\n\u001b[0;32m----> 1\u001b[0m \u001b[38;5;28;01mclass\u001b[39;00m \u001b[38;5;21;01mSolution\u001b[39;00m:\n\u001b[1;32m      2\u001b[0m     \u001b[38;5;28;01mdef\u001b[39;00m \u001b[38;5;21mfindMinHeightTrees\u001b[39m(\u001b[38;5;28mself\u001b[39m, n: \u001b[38;5;28mint\u001b[39m, edges: List[List[\u001b[38;5;28mint\u001b[39m]]) \u001b[38;5;241m-\u001b[39m\u001b[38;5;241m>\u001b[39m List[\u001b[38;5;28mint\u001b[39m]:\n\u001b[1;32m      3\u001b[0m         \u001b[38;5;66;03m# function to find the nodes of the tree from where the height is the lowest\u001b[39;00m\n\u001b[1;32m      4\u001b[0m \n\u001b[1;32m      5\u001b[0m         \u001b[38;5;66;03m# if there is only one node, return it\u001b[39;00m\n\u001b[1;32m      6\u001b[0m         \u001b[38;5;28;01mif\u001b[39;00m n \u001b[38;5;241m==\u001b[39m \u001b[38;5;241m1\u001b[39m:\n",
      "Cell \u001b[0;32mIn[1], line 2\u001b[0m, in \u001b[0;36mSolution\u001b[0;34m()\u001b[0m\n\u001b[1;32m      1\u001b[0m \u001b[38;5;28;01mclass\u001b[39;00m \u001b[38;5;21;01mSolution\u001b[39;00m:\n\u001b[0;32m----> 2\u001b[0m     \u001b[38;5;28;01mdef\u001b[39;00m \u001b[38;5;21mfindMinHeightTrees\u001b[39m(\u001b[38;5;28mself\u001b[39m, n: \u001b[38;5;28mint\u001b[39m, edges: \u001b[43mList\u001b[49m[List[\u001b[38;5;28mint\u001b[39m]]) \u001b[38;5;241m-\u001b[39m\u001b[38;5;241m>\u001b[39m List[\u001b[38;5;28mint\u001b[39m]:\n\u001b[1;32m      3\u001b[0m         \u001b[38;5;66;03m# function to find the nodes of the tree from where the height is the lowest\u001b[39;00m\n\u001b[1;32m      4\u001b[0m \n\u001b[1;32m      5\u001b[0m         \u001b[38;5;66;03m# if there is only one node, return it\u001b[39;00m\n\u001b[1;32m      6\u001b[0m         \u001b[38;5;28;01mif\u001b[39;00m n \u001b[38;5;241m==\u001b[39m \u001b[38;5;241m1\u001b[39m:\n\u001b[1;32m      7\u001b[0m             \u001b[38;5;28;01mreturn\u001b[39;00m [\u001b[38;5;241m0\u001b[39m]\n",
      "\u001b[0;31mNameError\u001b[0m: name 'List' is not defined"
     ]
    }
   ],
   "source": [
    "class Solution:\n",
    "    def findMinHeightTrees(self, n: int, edges: List[List[int]]) -> List[int]:\n",
    "        # function to find the nodes of the tree from where the height is the lowest\n",
    "\n",
    "        # if there is only one node, return it\n",
    "        if n == 1:\n",
    "            return [0]\n",
    "\n",
    "        # create a graph\n",
    "        graph = collections.defaultdict(list)\n",
    "        for i, j in edges:\n",
    "            graph[i].append(j)\n",
    "            graph[j].append(i)\n",
    "\n",
    "        # find the leaves\n",
    "\n",
    "        leaves = []\n",
    "        for i in range(n):\n",
    "            if len(graph[i]) == 1:\n",
    "                leaves.append(i)\n",
    "\n",
    "        # remove the leaves iteratively until there are only 1 or 2 nodes left\n",
    "\n",
    "        while n > 2:\n",
    "            n -= len(leaves)\n",
    "            new_leaves = []\n",
    "            for i in leaves:\n",
    "                j = graph[i].pop()\n",
    "                graph[j].remove(i)\n",
    "                if len(graph[j]) == 1:\n",
    "                    new_leaves.append(j)\n",
    "            leaves = new_leaves\n",
    "\n",
    "        return leaves\n",
    "\n",
    "# Time complexity is O(n) where n is the number of nodes in the graph\n",
    "# Space complexity is O(n) where n is the number of nodes in the graph\n",
    "# The code ran successfully\n",
    "# I have used the approach of removing the leaves iteratively until there are only 1 or 2 nodes left\n",
    "\n",
    "s = Solution()\n",
    "\n",
    "print(s.findMinHeightTrees(4, [[1, 0], [1, 2], [1, 3]])) # [1]\n"
   ]
  },
  {
   "cell_type": "code",
   "execution_count": null,
   "metadata": {},
   "outputs": [],
   "source": []
  }
 ],
 "metadata": {
  "kernelspec": {
   "display_name": "Python 3",
   "language": "python",
   "name": "python3"
  },
  "language_info": {
   "codemirror_mode": {
    "name": "ipython",
    "version": 3
   },
   "file_extension": ".py",
   "mimetype": "text/x-python",
   "name": "python",
   "nbconvert_exporter": "python",
   "pygments_lexer": "ipython3",
   "version": "3.8.19"
  }
 },
 "nbformat": 4,
 "nbformat_minor": 2
}
