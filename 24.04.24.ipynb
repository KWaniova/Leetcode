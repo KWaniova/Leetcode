{
 "cells": [
  {
   "cell_type": "code",
   "execution_count": null,
   "metadata": {},
   "outputs": [],
   "source": [
    "class Solution:\n",
    "    def tribonacci(self, n: int) -> int:\n",
    "        T = [0,1,1]\n",
    "        if n < 3:\n",
    "            return T[n]\n",
    "        for i in range(n-2):\n",
    "            T = [T[1], T[2], T[0] + T[1] + T[2]]\n",
    "        return T[-1]"
   ]
  }
 ],
 "metadata": {
  "language_info": {
   "name": "python"
  }
 },
 "nbformat": 4,
 "nbformat_minor": 2
}
