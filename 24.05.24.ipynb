{
 "cells": [
  {
   "cell_type": "code",
   "execution_count": null,
   "metadata": {},
   "outputs": [],
   "source": [
    "class Solution:\n",
    "    def maxScoreWords(self, words: List[str], letters: List[str], score: List[int]) -> int:\n",
    "        res_words = []\n",
    "        letters_bag = Counter(letters)\n",
    "        for word in words:\n",
    "            result_counter = Counter(word) - letters_bag\n",
    "            if len(result_counter.items()) == 0:\n",
    "                res_words.append(word)\n",
    "        if len(res_words) == 0:\n",
    "            return 0\n",
    "        i = 1\n",
    "        sums = []\n",
    "        while i < len(res_words)+1:\n",
    "            for c in list(combinations(res_words, i)):\n",
    "                joined = \"\".join(list(c))\n",
    "                result_counter = Counter(joined) - letters_bag\n",
    "                if len(result_counter.items()) == 0:\n",
    "                    suma = 0\n",
    "                    for item in joined:\n",
    "                        suma += score[ord(item) - 97]\n",
    "                    sums.append(suma)\n",
    "            i+=1\n",
    "        return max(sums)"
   ]
  }
 ],
 "metadata": {
  "language_info": {
   "name": "python"
  }
 },
 "nbformat": 4,
 "nbformat_minor": 2
}
