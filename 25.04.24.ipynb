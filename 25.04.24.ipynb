{
 "cells": [
  {
   "cell_type": "code",
   "execution_count": 10,
   "metadata": {},
   "outputs": [
    {
     "name": "stdout",
     "output_type": "stream",
     "text": [
      "5\n",
      "4\n",
      "5\n"
     ]
    },
    {
     "ename": "KeyboardInterrupt",
     "evalue": "",
     "output_type": "error",
     "traceback": [
      "\u001b[0;31m---------------------------------------------------------------------------\u001b[0m",
      "\u001b[0;31mKeyboardInterrupt\u001b[0m                         Traceback (most recent call last)",
      "Cell \u001b[0;32mIn[10], line 55\u001b[0m\n\u001b[1;32m     52\u001b[0m \u001b[38;5;28mprint\u001b[39m(s\u001b[38;5;241m.\u001b[39mlongestIdealString(\u001b[38;5;124m\"\u001b[39m\u001b[38;5;124meduktdb\u001b[39m\u001b[38;5;124m\"\u001b[39m, \u001b[38;5;241m15\u001b[39m)) \u001b[38;5;66;03m# 5\u001b[39;00m\n\u001b[1;32m     54\u001b[0m \u001b[38;5;66;03m# \"dyyonfvzsretqxucmavxegvlnnjubqnwrhwikmnnrpzdovjxqdsatwzpdjdsneyqvtvorlwbkb\"\u001b[39;00m\n\u001b[0;32m---> 55\u001b[0m \u001b[38;5;28mprint\u001b[39m(\u001b[43ms\u001b[49m\u001b[38;5;241;43m.\u001b[39;49m\u001b[43mlongestIdealString\u001b[49m\u001b[43m(\u001b[49m\u001b[38;5;124;43m\"\u001b[39;49m\u001b[38;5;124;43mdyyonfvzsretqxucmavxegvlnnjubqnwrhwikmnnrpzdovjxqdsatwzpdjdsneyqvtvorlwbkb\u001b[39;49m\u001b[38;5;124;43m\"\u001b[39;49m\u001b[43m,\u001b[49m\u001b[43m \u001b[49m\u001b[38;5;241;43m7\u001b[39;49m\u001b[43m)\u001b[49m)\n",
      "Cell \u001b[0;32mIn[10], line 6\u001b[0m, in \u001b[0;36mSolution.longestIdealString\u001b[0;34m(self, s, k)\u001b[0m\n\u001b[1;32m      3\u001b[0m matrix \u001b[38;5;241m=\u001b[39m \u001b[38;5;28mself\u001b[39m\u001b[38;5;241m.\u001b[39mcreate_adj_matrix(s,k)\n\u001b[1;32m      4\u001b[0m \u001b[38;5;66;03m# for row in matrix:\u001b[39;00m\n\u001b[1;32m      5\u001b[0m \u001b[38;5;66;03m#     print(row)\u001b[39;00m\n\u001b[0;32m----> 6\u001b[0m \u001b[38;5;28;01mreturn\u001b[39;00m \u001b[38;5;28;43mself\u001b[39;49m\u001b[38;5;241;43m.\u001b[39;49m\u001b[43mbfs\u001b[49m\u001b[43m(\u001b[49m\u001b[43mmatrix\u001b[49m\u001b[43m)\u001b[49m\n",
      "Cell \u001b[0;32mIn[10], line 16\u001b[0m, in \u001b[0;36mSolution.bfs\u001b[0;34m(self, matrix)\u001b[0m\n\u001b[1;32m     14\u001b[0m \u001b[38;5;28;01mwhile\u001b[39;00m \u001b[38;5;28mlen\u001b[39m(queue) \u001b[38;5;241m>\u001b[39m \u001b[38;5;241m0\u001b[39m:\n\u001b[1;32m     15\u001b[0m     node \u001b[38;5;241m=\u001b[39m queue[\u001b[38;5;241m0\u001b[39m]\n\u001b[0;32m---> 16\u001b[0m     queue \u001b[38;5;241m=\u001b[39m \u001b[43mqueue\u001b[49m\u001b[43m[\u001b[49m\u001b[38;5;241;43m1\u001b[39;49m\u001b[43m:\u001b[49m\u001b[43m]\u001b[49m\n\u001b[1;32m     17\u001b[0m     actual_index \u001b[38;5;241m=\u001b[39m node[\u001b[38;5;241m1\u001b[39m]\n\u001b[1;32m     18\u001b[0m     depth \u001b[38;5;241m=\u001b[39m node[\u001b[38;5;241m0\u001b[39m]\n",
      "\u001b[0;31mKeyboardInterrupt\u001b[0m: "
     ]
    }
   ],
   "source": [
    "class Solution:\n",
    "    def longestIdealString(self, s: str, k: int) -> int:\n",
    "        matrix = self.create_adj_matrix(s,k)\n",
    "        # for row in matrix:\n",
    "        #     print(row)\n",
    "        return self.bfs(matrix)\n",
    "\n",
    "    def bfs(self, matrix):\n",
    "        queue = []\n",
    "        max_depth = 0\n",
    "        for x in range(len(matrix)):\n",
    "            queue.append((1,x))\n",
    "            if max_depth > (len(matrix) - x): break\n",
    "            while len(queue) > 0:\n",
    "                node = queue[0]\n",
    "                queue = queue[1:]\n",
    "                actual_index = node[1]\n",
    "                depth = node[0]\n",
    "                i = actual_index + 1\n",
    "                while i < len(matrix):\n",
    "                    if matrix[actual_index][i] == 1:\n",
    "                        new_depth = depth + 1\n",
    "                        queue.append((new_depth, i))\n",
    "                        if new_depth > max_depth:\n",
    "                            max_depth = new_depth\n",
    "                    i +=1\n",
    "        return max_depth\n",
    "\n",
    "\n",
    "    def create_adj_matrix(self, s, k):\n",
    "        matr = []\n",
    "        for c in s:\n",
    "            row = []\n",
    "            for l in s:\n",
    "                diff = abs(ord(c) - ord(l))\n",
    "                if diff <= k:\n",
    "                    row.append(1)\n",
    "                else:\n",
    "                    row.append(0)\n",
    "            matr.append(row)\n",
    "        return matr\n",
    "\n",
    "\n",
    "\n",
    "\n",
    "s = Solution()\n",
    "\n",
    "print(s.longestIdealString(\"abaccc\", 1)) # 6\n",
    "# \"acfgbd\"\n",
    "print(s.longestIdealString(\"acfgbd\", 2)) # 4\n",
    "# \"eduktdb\"\n",
    "print(s.longestIdealString(\"eduktdb\", 15)) # 5\n",
    "\n",
    "# \"dyyonfvzsretqxucmavxegvlnnjubqnwrhwikmnnrpzdovjxqdsatwzpdjdsneyqvtvorlwbkb\"\n",
    "print(s.longestIdealString(\"dyyonfvzsretqxucmavxegvlnnjubqnwrhwikmnnrpzdovjxqdsatwzpdjdsneyqvtvorlwbkb\", 7)) "
   ]
  }
 ],
 "metadata": {
  "kernelspec": {
   "display_name": "Python 3",
   "language": "python",
   "name": "python3"
  },
  "language_info": {
   "codemirror_mode": {
    "name": "ipython",
    "version": 3
   },
   "file_extension": ".py",
   "mimetype": "text/x-python",
   "name": "python",
   "nbconvert_exporter": "python",
   "pygments_lexer": "ipython3",
   "version": "3.8.19"
  }
 },
 "nbformat": 4,
 "nbformat_minor": 2
}
