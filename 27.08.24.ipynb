{
 "cells": [
  {
   "cell_type": "code",
   "execution_count": null,
   "metadata": {},
   "outputs": [],
   "source": [
    "class Solution:\n",
    "    def maxProbability(self, n: int, edges: List[List[int]], succProb: List[float], start_node: int, end_node: int) -> float:\n",
    "        edges_map = self.create_edges_map(edges, succProb)\n",
    "        q = deque()\n",
    "        q.append(([start_node], 1))\n",
    "        results = []\n",
    "        while len(q) > 0:\n",
    "            curr = q.popleft()\n",
    "            curr_path = curr[0]\n",
    "            curr_val = curr[1]\n",
    "            last_node = curr_path[-1]\n",
    "            if last_node in edges_map.keys():\n",
    "                for item in edges_map[last_node]:\n",
    "                    node, val = item\n",
    "                    val *= curr_val\n",
    "                    if node not in curr_path:\n",
    "                        new_p = [*curr_path, node]\n",
    "                        if node == end_node:\n",
    "                            results.append((new_p, val))\n",
    "                        else:\n",
    "                            q.append((new_p, val))\n",
    "        def func(p):\n",
    "            return p[1]\n",
    "        if len(results) == 0:\n",
    "            return 0\n",
    "        return max(results, key=func)[1]\n",
    "\n",
    "    def create_edges_map(self, edges, probs):\n",
    "        dic = {}\n",
    "        for i, edge in enumerate(edges):\n",
    "            x,y = edge\n",
    "            if x not in dic.keys():\n",
    "                dic[x]= set()\n",
    "            if y not in dic.keys():\n",
    "                dic[y]= set()\n",
    "            dic[x].add((y,probs[i]))\n",
    "            dic[y].add((x,probs[i]))\n",
    "        return dic\n"
   ]
  },
  {
   "cell_type": "code",
   "execution_count": null,
   "metadata": {},
   "outputs": [],
   "source": [
    "class Solution:\n",
    "    def maxProbability(self, n: int, edges: List[List[int]], succProb: List[float], start_node: int, end_node: int) -> float:\n",
    "        dist = [0] * n\n",
    "        dist[start_node] = 1\n",
    "        for _ in range(n - 1):\n",
    "            updated = False\n",
    "            for i, (u, v) in enumerate(edges):\n",
    "                if dist[u] * succProb[i] > dist[v]:\n",
    "                    dist[v] = dist[u] * succProb[i]\n",
    "                    updated = True\n",
    "                if dist[v] * succProb[i] > dist[u]:\n",
    "                    dist[u] = dist[v] * succProb[i]\n",
    "                    updated = True\n",
    "            if not updated:\n",
    "                break\n",
    "\n",
    "        return dist[end_node]"
   ]
  }
 ],
 "metadata": {
  "language_info": {
   "name": "python"
  }
 },
 "nbformat": 4,
 "nbformat_minor": 2
}
