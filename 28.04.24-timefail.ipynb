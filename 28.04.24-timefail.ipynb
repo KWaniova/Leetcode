{
 "cells": [
  {
   "cell_type": "code",
   "execution_count": null,
   "metadata": {},
   "outputs": [],
   "source": [
    "class Solution:\n",
    "    def sumOfDistancesInTree(self, n: int, edges: List[List[int]]) -> List[int]:\n",
    "        d = self.create_dict(edges)\n",
    "        answer = [0] * n\n",
    "        for i in range(n):\n",
    "            answer[i] = self.bfs(d, i)\n",
    "        return answer\n",
    "\n",
    "    def bfs(self, edges, item_nr):\n",
    "        queue = deque()\n",
    "        queue.append((0,item_nr))\n",
    "        visited = set([item_nr])\n",
    "        dist_sum = 0\n",
    "        while len(queue) > 0:\n",
    "            node = queue.popleft()\n",
    "            actual = node[1]\n",
    "            depth = node[0]\n",
    "            i = 0\n",
    "            if actual in edges.keys():\n",
    "                while i < len(edges[actual]):\n",
    "                    next_node = edges[actual][i]\n",
    "                    if next_node not in visited:\n",
    "                        new_dist = depth + 1\n",
    "                        queue.append((new_dist,next_node))\n",
    "                        visited.add(next_node)\n",
    "                        dist_sum += new_dist\n",
    "                    i += 1\n",
    "        return dist_sum\n",
    "\n",
    "    def create_dict(self, edges):\n",
    "        d = {}\n",
    "        for edge in edges:\n",
    "            if edge[0] not in d.keys():\n",
    "                d[edge[0]] = []\n",
    "            d[edge[0]].append(edge[1])\n",
    "\n",
    "            if edge[1] not in d.keys():\n",
    "                d[edge[1]] = []\n",
    "            d[edge[1]].append(edge[0])\n",
    "        return d"
   ]
  }
 ],
 "metadata": {
  "language_info": {
   "name": "python"
  }
 },
 "nbformat": 4,
 "nbformat_minor": 2
}
