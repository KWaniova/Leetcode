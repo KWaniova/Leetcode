{
 "cells": [
  {
   "cell_type": "code",
   "execution_count": null,
   "metadata": {},
   "outputs": [],
   "source": [
    "class Solution:\n",
    "    def equalSubstring(self, s: str, t: str, maxCost: int) -> int:\n",
    "        max_length = 0\n",
    "        nums = []\n",
    "        for i in range(len(s)):\n",
    "            nums.append(self.chars_diff(s[i],t[i]))\n",
    "        for i in range(len(s)):\n",
    "            l, j = 0, i+1\n",
    "            suma = self.chars_diff(s[i],t[i])\n",
    "            while suma <= maxCost and j < len(s):\n",
    "                l+=1\n",
    "                suma += self.chars_diff(s[j],t[j])\n",
    "                j+=1\n",
    "            if suma <= maxCost and j == len(s) and max_length < l + 1: max_length = l + 1\n",
    "            elif max_length < l:\n",
    "                max_length = l\n",
    "        return max_length\n",
    "\n",
    "    def chars_diff(self, char1, char2):\n",
    "        return abs(ord(char1) - ord(char2))"
   ]
  }
 ],
 "metadata": {
  "language_info": {
   "name": "python"
  }
 },
 "nbformat": 4,
 "nbformat_minor": 2
}
