{
 "cells": [
  {
   "cell_type": "markdown",
   "metadata": {},
   "source": [
    "On a 2D plane, we place n stones at some integer coordinate points. Each coordinate point may have at most one stone.\n",
    "\n",
    "A stone can be removed if it shares either the same row or the same column as another stone that has not been removed.\n",
    "\n",
    "Given an array stones of length n where stones[i] = [xi, yi] represents the location of the ith stone, return the largest possible number of stones that can be removed."
   ]
  },
  {
   "cell_type": "code",
   "execution_count": 4,
   "metadata": {},
   "outputs": [
    {
     "name": "stdout",
     "output_type": "stream",
     "text": [
      "defaultdict(<class 'list'>, {1: [0, 4], 0: [1, 2], 2: [0, 3], 3: [2, 5], 4: [1, 5], 5: [3, 4]})\n",
      "5\n"
     ]
    }
   ],
   "source": [
    "import collections\n",
    "import typing\n",
    "from typing import List\n",
    "\n",
    "class Solution:\n",
    "    def removeStones(self, stones: List[List[int]]) -> int:\n",
    "        def dfs(x):\n",
    "            seen.add(x)\n",
    "            for y in graph[x]:\n",
    "                if y not in seen:\n",
    "                    dfs(y)\n",
    "\n",
    "        graph = collections.defaultdict(list)\n",
    "        for i, (x, y) in enumerate(stones):\n",
    "            for j in range(i):\n",
    "                x1, y1 = stones[j]\n",
    "                if x == x1 or y == y1:\n",
    "                    graph[i].append(j)\n",
    "                    graph[j].append(i)\n",
    "\n",
    "        print(graph)\n",
    "        seen = set()\n",
    "        ans = 0\n",
    "        for i in range(len(stones)):\n",
    "            if i not in seen:\n",
    "                ans += 1\n",
    "                dfs(i)\n",
    "        return len(stones) - ans\n",
    "\n",
    "# one line solution\n",
    "x = [[0,0],[0,1],[1,0],[1,2],[2,1],[2,2]]\n",
    "s = Solution()\n",
    "print(s.removeStones(x))"
   ]
  }
 ],
 "metadata": {
  "kernelspec": {
   "display_name": "Python 3",
   "language": "python",
   "name": "python3"
  },
  "language_info": {
   "codemirror_mode": {
    "name": "ipython",
    "version": 3
   },
   "file_extension": ".py",
   "mimetype": "text/x-python",
   "name": "python",
   "nbconvert_exporter": "python",
   "pygments_lexer": "ipython3",
   "version": "3.8.19"
  }
 },
 "nbformat": 4,
 "nbformat_minor": 2
}
