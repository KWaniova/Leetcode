{
 "cells": [
  {
   "cell_type": "code",
   "execution_count": null,
   "metadata": {},
   "outputs": [],
   "source": [
    "# Definition for singly-linked list.\n",
    "# class ListNode:\n",
    "#     def __init__(self, val=0, next=None):\n",
    "#         self.val = val\n",
    "#         self.next = next\n",
    "class Solution:\n",
    "    def spiralMatrix(self, m: int, n: int, head: Optional[ListNode]) -> List[List[int]]:\n",
    "        directions = [(0,1), (1, 0), (0, -1), (-1, 0)]\n",
    "        direction = 0\n",
    "        position = (0,0)\n",
    "        def check_if_valid(pos, grid):\n",
    "            i,j = pos\n",
    "            if i < 0 or j < 0 or i >= m or j >= n or grid[i][j] != -1:\n",
    "                return False\n",
    "            return True\n",
    "        def turn_right(direction):\n",
    "            return (direction + 1) % 4\n",
    "        def go(pos, direction):\n",
    "            direc = directions[direction]\n",
    "            return (pos[0] + direc[0], pos[1] + direc[1])\n",
    "        result = []\n",
    "        for i in range(m):\n",
    "            x = [-1] * n\n",
    "            result.append(x)\n",
    "        if head is None: return result\n",
    "        while head is not None:\n",
    "            x,y = position\n",
    "            result[x][y] = head.val\n",
    "            next_pos = go(position, direction)\n",
    "            valid = check_if_valid(next_pos, result)\n",
    "            if not valid:\n",
    "                direction = turn_right(direction)\n",
    "                next_pos = go(position, direction)\n",
    "                valid = check_if_valid(next_pos, result)\n",
    "                if not valid:\n",
    "                    break\n",
    "            position = next_pos\n",
    "            head = head.next\n",
    "        return result\n"
   ]
  }
 ],
 "metadata": {
  "language_info": {
   "name": "python"
  }
 },
 "nbformat": 4,
 "nbformat_minor": 2
}
