{
 "cells": [
  {
   "cell_type": "code",
   "execution_count": 37,
   "metadata": {},
   "outputs": [],
   "source": [
    "input = \"2 72 8949 0 981038 86311 246 7636740\""
   ]
  },
  {
   "cell_type": "code",
   "execution_count": 38,
   "metadata": {},
   "outputs": [
    {
     "name": "stdout",
     "output_type": "stream",
     "text": [
      "(253, 0)\n"
     ]
    }
   ],
   "source": [
    "def rule_1(value):\n",
    "    if value == 0:\n",
    "        return 1\n",
    "\n",
    "def rule_2(value):\n",
    "    value = str(value)\n",
    "    if len(value) % 2 == 0:\n",
    "        a, b = value[:len(value)//2], value[len(value)//2:]\n",
    "        return int(a) , int(b)\n",
    "    else:\n",
    "        return value\n",
    "\n",
    "def rule_3(value):\n",
    "    return value * 2024\n",
    "\n",
    "print(rule_2(253000))"
   ]
  },
  {
   "cell_type": "code",
   "execution_count": 39,
   "metadata": {},
   "outputs": [],
   "source": [
    "# res = input.split(\" \")\n",
    "# print(res)\n",
    "\n",
    "# for i in range(25):\n",
    "#     y = 0\n",
    "#     x = []\n",
    "#     while y < len(res):\n",
    "#         stone = res[y]\n",
    "#         # print(\"stone >>\" , stone)\n",
    "#         if len(stone) % 2 == 0:\n",
    "#             a, b = rule_2(stone)\n",
    "#             res[y] = a\n",
    "#             res = res[:y+1] + [b] + res[y+1:]\n",
    "#             y += 1\n",
    "#         elif int(stone) == 0:\n",
    "#             res[y] = \"1\"\n",
    "#         else:\n",
    "#             res[y] = str(rule_3(int(stone)))\n",
    "#         y += 1\n",
    "#     # print(res)\n",
    "# # print(res)\n"
   ]
  },
  {
   "cell_type": "code",
   "execution_count": 40,
   "metadata": {},
   "outputs": [],
   "source": [
    "# len(res)"
   ]
  },
  {
   "cell_type": "code",
   "execution_count": 41,
   "metadata": {},
   "outputs": [],
   "source": [
    "# for i in range(50):\n",
    "#     y = 0\n",
    "#     while y < len(res):\n",
    "#         stone = res[y]\n",
    "#         if len(stone) % 2 == 0:\n",
    "#             a, b = rule_2(stone)\n",
    "#             res[y] = a\n",
    "#             res = res[:y+1] + [b] + res[y+1:]\n",
    "#             y += 1\n",
    "#         elif int(stone) == 0:\n",
    "#             res[y] = \"1\"\n",
    "#         else:\n",
    "#             res[y] = str(rule_3(int(stone)))\n",
    "#         y += 1"
   ]
  },
  {
   "cell_type": "code",
   "execution_count": 42,
   "metadata": {},
   "outputs": [],
   "source": [
    "# len(res)\n",
    "# print(i)"
   ]
  },
  {
   "cell_type": "code",
   "execution_count": 43,
   "metadata": {},
   "outputs": [
    {
     "name": "stdout",
     "output_type": "stream",
     "text": [
      "['a', 'b']\n",
      "['a', 'b']\n",
      "{'a': 1, 'b': 2, 'c': 2}\n"
     ]
    }
   ],
   "source": [
    "d = {\"a\": 1, \"b\": 2}\n",
    "x = list(d.keys())\n",
    "print(x)\n",
    "d[\"c\"] = 2\n",
    "print(x)\n",
    "print(d)"
   ]
  },
  {
   "cell_type": "code",
   "execution_count": null,
   "metadata": {},
   "outputs": [
    {
     "name": "stdout",
     "output_type": "stream",
     "text": [
      "{2: 1, 72: 1, 8949: 1, 0: 1, 981038: 1, 86311: 1, 246: 1, 7636740: 1}\n",
      "239321955280205\n",
      "3755\n"
     ]
    }
   ],
   "source": [
    "input = \"2 72 8949 0 981038 86311 246 7636740\"\n",
    "# input = \"125 17\"\n",
    "res = input.split(\" \")\n",
    "res = [int(x) for x in res]\n",
    "d = {}\n",
    "\n",
    "for r in res:\n",
    "    if r in d.keys():\n",
    "        d[r] += 1\n",
    "    else:\n",
    "        d[r] = 1\n",
    "print(d)\n",
    "\n",
    "for i in range(75):\n",
    "    arr = list(d.items())\n",
    "    d2 = {}\n",
    "    for key, value in arr:\n",
    "        # print(key, value)\n",
    "        if key == 0:\n",
    "            if 1 not in d2.keys():\n",
    "                d2[1] = value\n",
    "            else:\n",
    "                d2[1] += value\n",
    "        elif len(str(key)) % 2 == 0:\n",
    "            a, b = rule_2(key)\n",
    "            if a not in d2.keys():\n",
    "                d2[a] = value\n",
    "            else:\n",
    "                d2[a] += value\n",
    "            if b not in d2.keys():\n",
    "                d2[b] = value\n",
    "            else:\n",
    "                d2[b] += value\n",
    "        else:\n",
    "            x = rule_3(key)\n",
    "            if x not in d2.keys():\n",
    "                d2[x] = value\n",
    "            else:\n",
    "                d2[x] += value\n",
    "    d = d2\n",
    "\n",
    "count = [val for val in d.values()]\n"
   ]
  }
 ],
 "metadata": {
  "kernelspec": {
   "display_name": "imageRec",
   "language": "python",
   "name": "python3"
  },
  "language_info": {
   "codemirror_mode": {
    "name": "ipython",
    "version": 3
   },
   "file_extension": ".py",
   "mimetype": "text/x-python",
   "name": "python",
   "nbconvert_exporter": "python",
   "pygments_lexer": "ipython3",
   "version": "3.12.5"
  }
 },
 "nbformat": 4,
 "nbformat_minor": 2
}
