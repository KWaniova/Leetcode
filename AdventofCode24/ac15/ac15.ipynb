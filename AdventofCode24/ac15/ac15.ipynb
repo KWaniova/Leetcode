{
 "cells": [
  {
   "cell_type": "code",
   "execution_count": 35,
   "metadata": {},
   "outputs": [
    {
     "name": "stdout",
     "output_type": "stream",
     "text": [
      "#######\n",
      "#...#.#\n",
      "#.....#\n",
      "#..OO@#\n",
      "#..O..#\n",
      "#.....#\n",
      "#######\n",
      "['#######', '#...#.#', '#.....#', '#..OO@#', '#..O..#', '#.....#', '#######']\n",
      "7\n",
      "[['#', '#', '#', '#', '#', '#', '#'], ['#', '.', '.', '.', '#', '.', '#'], ['#', '.', '.', '.', '.', '.', '#'], ['#', '.', '.', 'O', 'O', '@', '#'], ['#', '.', '.', 'O', '.', '.', '#'], ['#', '.', '.', '.', '.', '.', '#'], ['#', '#', '#', '#', '#', '#', '#']]\n"
     ]
    }
   ],
   "source": [
    "with open(\"in.txt\", 'r') as f:\n",
    "    board = f.read()\n",
    "print(board)\n",
    "\n",
    "with open(\"in.txt\", 'r') as f:\n",
    "    data = f.read().splitlines()\n",
    "print(data)\n",
    "print(len(data))\n",
    "\n",
    "board = []\n",
    "for row in data:\n",
    "    r = []\n",
    "    for col in row:\n",
    "        r.append(col)\n",
    "    board.append(r)\n",
    "print(board)\n"
   ]
  },
  {
   "cell_type": "code",
   "execution_count": 36,
   "metadata": {},
   "outputs": [],
   "source": [
    "is_double = True"
   ]
  },
  {
   "cell_type": "code",
   "execution_count": 37,
   "metadata": {},
   "outputs": [
    {
     "name": "stdout",
     "output_type": "stream",
     "text": [
      "1\n"
     ]
    },
    {
     "data": {
      "text/plain": [
       "'<vv<<^^<<^^'"
      ]
     },
     "execution_count": 37,
     "metadata": {},
     "output_type": "execute_result"
    }
   ],
   "source": [
    "with open(\"instructions.txt\", 'r') as f:\n",
    "    data = f.read().splitlines()\n",
    "print(len(data))\n",
    "instructions = \"\".join(data)\n",
    "instructions\n"
   ]
  },
  {
   "cell_type": "code",
   "execution_count": 38,
   "metadata": {},
   "outputs": [],
   "source": [
    "def show_board(board):\n",
    "    for row in board:\n",
    "        print(\"\".join(row))\n",
    "\n",
    "boxes_chars = [\"O\", \"[\", \"]\"]\n"
   ]
  },
  {
   "cell_type": "code",
   "execution_count": 39,
   "metadata": {},
   "outputs": [
    {
     "name": "stdout",
     "output_type": "stream",
     "text": [
      "##############\n",
      "##......##..##\n",
      "##..........##\n",
      "##....[][]@.##\n",
      "##....[]....##\n",
      "##..........##\n",
      "##############\n"
     ]
    }
   ],
   "source": [
    "#modify 2x board\n",
    "board_2x = []\n",
    "for row in board:\n",
    "    r = []\n",
    "    for col in row:\n",
    "        # print(col)\n",
    "        if col == \"@\":\n",
    "            r.append(\"@\")\n",
    "            r.append(\".\")\n",
    "        elif col not in boxes_chars:\n",
    "            r.append(col)\n",
    "            r.append(col)\n",
    "        else:\n",
    "            r.append(\"[\")\n",
    "            r.append(\"]\")\n",
    "    board_2x.append(r)\n",
    "if is_double:\n",
    "    board = board_2x\n",
    "    show_board(board_2x)\n"
   ]
  },
  {
   "cell_type": "code",
   "execution_count": 40,
   "metadata": {},
   "outputs": [
    {
     "name": "stdout",
     "output_type": "stream",
     "text": [
      "(3, 10)\n"
     ]
    }
   ],
   "source": [
    "def find_robot(board):\n",
    "    for row in range(len(board)):\n",
    "        for col in range(len(board[row])):\n",
    "            if board[row][col] == '@':\n",
    "                return row, col\n",
    "robot = find_robot(board)\n",
    "print(robot)"
   ]
  },
  {
   "cell_type": "code",
   "execution_count": 41,
   "metadata": {},
   "outputs": [],
   "source": [
    "directions = {\"<\": (0,-1), \">\":(0,1), \"^\":(-1,0), \"v\":(1,0)}"
   ]
  },
  {
   "cell_type": "code",
   "execution_count": 42,
   "metadata": {},
   "outputs": [],
   "source": [
    "def move_points_in_direction(board, robot, direction):\n",
    "    row, col = robot\n",
    "    dr, dc = directions[direction]\n",
    "    new_row, new_col = row + dr, col + dc\n",
    "\n",
    "    # show_board(board)\n",
    "\n",
    "    # print(\"ROBOT: \", robot)\n",
    "    while board[new_row][new_col] in boxes_chars:\n",
    "        new_row, new_col = new_row + dr, new_col + dc\n",
    "    # print(\"last without O: \", (new_row, new_col))\n",
    "    if board[new_row][new_col] == \"#\":\n",
    "        return robot\n",
    "    else:\n",
    "        # board[new_row][new_col] == \".\"\n",
    "        while board[new_row][new_col] != \"@\":\n",
    "            board[new_row][new_col] =  board[new_row - dr][new_col - dc]\n",
    "            new_row, new_col = new_row - dr, new_col - dc\n",
    "\n",
    "        board[row][col] = \".\"\n",
    "        # show_board(board)\n",
    "        return row + dr, col + dc"
   ]
  },
  {
   "cell_type": "code",
   "execution_count": null,
   "metadata": {},
   "outputs": [],
   "source": [
    "def move_points_in_direction_double(board, robot, direction):\n",
    "    row, col = robot\n",
    "    dr, dc = directions[direction]\n",
    "    new_row, new_col = row + dr, col + dc\n",
    "\n",
    "    # show_board(board)\n",
    "\n",
    "    # print(\"ROBOT: \", robot)\n",
    "    while board[new_row][new_col] in boxes_chars:\n",
    "        new_row, new_col = new_row + dr, new_col + dc\n",
    "    # print(\"last without O: \", (new_row, new_col))\n",
    "    if board[new_row][new_col] == \"#\":\n",
    "        return robot\n",
    "    else:\n",
    "        # board[new_row][new_col] == \".\"\n",
    "        while board[new_row][new_col] != \"@\":\n",
    "            board[new_row][new_col] =  board[new_row - dr][new_col - dc]\n",
    "            new_row, new_col = new_row - dr, new_col - dc\n",
    "\n",
    "        board[row][col] = \".\"\n",
    "        # show_board(board)\n",
    "        return row + dr, col + dc"
   ]
  },
  {
   "cell_type": "code",
   "execution_count": null,
   "metadata": {},
   "outputs": [],
   "source": [
    "def move_robot(board, robot, direction):\n",
    "    row, col = robot\n",
    "    dr, dc = directions[direction]\n",
    "    new_row, new_col = row + dr, col + dc\n",
    "    if board[new_row][new_col] == \".\":\n",
    "        board[new_row][new_col] = \"@\"\n",
    "        board[row][col] = \".\"\n",
    "        return new_row, new_col\n",
    "    elif board[new_row][new_col] in boxes_chars:\n",
    "        if is_double:\n",
    "            return move_points_in_direction_double(board, robot, direction)\n",
    "        return move_points_in_direction(board, robot, direction)\n",
    "\n",
    "    return row, col"
   ]
  },
  {
   "cell_type": "code",
   "execution_count": 44,
   "metadata": {},
   "outputs": [],
   "source": [
    "with open(\"out.txt\", 'w') as f:\n",
    "        f.write(\"\")\n",
    "\n",
    "for instruction in instructions:\n",
    "    # print(\"INSTRUCTION\", instruction)\n",
    "    robot = move_robot(board, robot, instruction)\n",
    "    # show_board(board)\n",
    "    with open(\"out.txt\", 'a') as f:\n",
    "        f.write(\"\".join([\"=\"] * 100))\n",
    "        f.write(\"\\n\")\n",
    "        f.write(instruction)\n",
    "        f.write(\"\\n\")\n",
    "        for row in board:\n",
    "            f.write(\"\".join(row))\n",
    "            f.write(\"\\n\")\n",
    "    # print()"
   ]
  },
  {
   "cell_type": "code",
   "execution_count": 45,
   "metadata": {},
   "outputs": [
    {
     "name": "stdout",
     "output_type": "stream",
     "text": [
      "##############\n",
      "##...@.[##..##\n",
      "##.....]....##\n",
      "##.[]...]...##\n",
      "##....[.....##\n",
      "##..........##\n",
      "##############\n"
     ]
    }
   ],
   "source": [
    "show_board(board)"
   ]
  },
  {
   "cell_type": "code",
   "execution_count": 46,
   "metadata": {},
   "outputs": [
    {
     "data": {
      "text/plain": [
       "0"
      ]
     },
     "execution_count": 46,
     "metadata": {},
     "output_type": "execute_result"
    }
   ],
   "source": [
    "suma = 0\n",
    "for row in range(len(board)):\n",
    "    for col in range(len(board[row])):\n",
    "        if board[row][col] == \"O\":\n",
    "            gps = 100*row + col\n",
    "            suma += gps\n",
    "suma"
   ]
  }
 ],
 "metadata": {
  "kernelspec": {
   "display_name": "imageRec",
   "language": "python",
   "name": "python3"
  },
  "language_info": {
   "codemirror_mode": {
    "name": "ipython",
    "version": 3
   },
   "file_extension": ".py",
   "mimetype": "text/x-python",
   "name": "python",
   "nbconvert_exporter": "python",
   "pygments_lexer": "ipython3",
   "version": "3.12.5"
  }
 },
 "nbformat": 4,
 "nbformat_minor": 2
}
