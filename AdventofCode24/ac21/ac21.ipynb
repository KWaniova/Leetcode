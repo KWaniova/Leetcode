{
 "cells": [
  {
   "cell_type": "code",
   "execution_count": 314,
   "metadata": {},
   "outputs": [
    {
     "name": "stdout",
     "output_type": "stream",
     "text": [
      "['029A', '980A', '179A', '456A', '379A']\n",
      "5\n"
     ]
    }
   ],
   "source": [
    "# with open(\"instructions.txt\", 'r') as f:\n",
    "#     instructions = f.read()\n",
    "# print(instructions)\n",
    "\n",
    "with open(\"in.txt\", 'r') as f:\n",
    "    data = f.read().splitlines()\n",
    "print(data)\n",
    "print(len(data))\n"
   ]
  },
  {
   "cell_type": "code",
   "execution_count": 315,
   "metadata": {},
   "outputs": [],
   "source": [
    "numeric_keyboard = {\n",
    "    \"0\": [\"A\", \"2\"],\n",
    "    \"1\": [\"2\", \"4\"],\n",
    "    \"2\": [\"1\", \"3\", \"5\", \"0\"],\n",
    "    \"3\": [\"2\", \"6\"],\n",
    "    \"4\": [\"1\", \"5\", \"7\"],\n",
    "    \"5\": [\"2\", \"4\", \"6\", \"8\"],\n",
    "    \"6\": [\"3\", \"5\", \"9\"],\n",
    "    \"7\": [\"4\", \"8\"],\n",
    "    \"8\": [\"5\", \"7\", \"9\"],\n",
    "    \"9\": [\"6\", \"8\"],\n",
    "    \"A\": [\"0\", \"3\"]\n",
    "}\n",
    "\n",
    "numeric_keyboard_coords = {\n",
    "    \"0\": (3,1),\n",
    "    \"A\": (3,2),\n",
    "    \"1\": (2,0),\n",
    "    \"2\": (2,1),\n",
    "    \"3\": (2,2),\n",
    "    \"4\": (1,0),\n",
    "    \"5\": (1,1),\n",
    "    \"6\": (1,2),\n",
    "    \"7\": (0,0),\n",
    "    \"8\": (0,1),\n",
    "    \"9\": (0,2),\n",
    "}\n",
    "\n",
    "keyboard_valid_coords = set(numeric_keyboard_coords.values())\n",
    "\n",
    "\n",
    "directions_keypad = {\n",
    "    \"<\": [\"v\"],\n",
    "    \">\": [\"A\", \"v\"],\n",
    "    \"v\": [\"<\", \">\", \"^\"],\n",
    "    \"^\": [\"v\", \"A\"],\n",
    "    \"A\": [\"^\", \">\"]\n",
    "}\n",
    "\n",
    "directions_keypad_coords = {\n",
    "    \"<\": (1,0),\n",
    "    \">\": (1,2),\n",
    "    \"v\": (1,1),\n",
    "    \"^\": (0,1),\n",
    "    \"A\": (0,2)\n",
    "}\n",
    "\n",
    "keypad_valid_coords = set(directions_keypad_coords.values())"
   ]
  },
  {
   "cell_type": "code",
   "execution_count": 316,
   "metadata": {},
   "outputs": [],
   "source": [
    "directions = [(0, 1), (0, -1), (1, 0), (-1, 0)]\n",
    "directions_map = {(0, 1):\">\", (0, -1):\"<\", (1, 0): \"v\", (-1, 0):\"^\", (0,2): \"A\"}\n",
    "directions_map_idx = {\"0\":\">\", \"1\":\"v\", \"2\":\"<\", \"3\":\"^\", \"A\": \"A\"}\n",
    "\n",
    "def calculate_positions_diff(start, end):\n",
    "    return abs(end[0] - start[0]) + abs(end[1] - start[1])\n",
    "\n",
    "def go_shortest_path(start, end, valid_coords):\n",
    "    if start == end:\n",
    "        return []\n",
    "    visited = set()\n",
    "    queue = [(start, \"0\")]\n",
    "    directions_list = []\n",
    "    possible_paths = []\n",
    "    while queue:\n",
    "        current, dirs = queue.pop()\n",
    "        d = int(dirs[-1])\n",
    "        visited.add(current)\n",
    "\n",
    "        for i in range(len(directions)):\n",
    "            dir_idx = (i + d) % 4\n",
    "            direction = directions[dir_idx]\n",
    "            new_position = (current[0] + direction[0], current[1] + direction[1])\n",
    "\n",
    "            actual_diff = calculate_positions_diff(current, end)\n",
    "            new_position_diff = calculate_positions_diff(new_position, end)\n",
    "\n",
    "            if new_position in valid_coords and new_position not in visited and new_position_diff < actual_diff:\n",
    "                directions_list.append(direction)\n",
    "\n",
    "                if new_position == end:\n",
    "                    possible_paths.append(dirs+str(dir_idx))\n",
    "                    continue\n",
    "                queue.append((new_position, dirs+str(dir_idx)))\n",
    "    return possible_paths"
   ]
  },
  {
   "cell_type": "code",
   "execution_count": 317,
   "metadata": {},
   "outputs": [],
   "source": [
    "def get_directions_list_string(directions_list):\n",
    "    res = []\n",
    "    # for d in directions_list:\n",
    "    d = [directions_map[direction] for direction in directions_list]\n",
    "    res.append(\"\".join(d))\n",
    "    return \"\".join(res)\n"
   ]
  },
  {
   "cell_type": "code",
   "execution_count": 318,
   "metadata": {},
   "outputs": [],
   "source": [
    "initialPosition = \"A\"\n",
    "\n",
    "def go_through_numeric_keyboard(code, keyboard_coords):\n",
    "    position = initialPosition\n",
    "    directions_res = []\n",
    "    for c in code:\n",
    "        c_cords = keyboard_coords[c]\n",
    "        actual_cords = keyboard_coords[position]\n",
    "        possible_paths = go_shortest_path(actual_cords, c_cords, keyboard_valid_coords)\n",
    "        # d.sort()\n",
    "        paths = []\n",
    "        for p in possible_paths:\n",
    "            paths.append(p[1:] + \"A\")\n",
    "        #map\n",
    "        res = []\n",
    "        for p in paths:\n",
    "            d = []\n",
    "            for i in p:\n",
    "                d.append(directions_map_idx[i])\n",
    "            res.append(\"\".join(d))\n",
    "        # print(paths)\n",
    "        # print(res)\n",
    "        directions_res.append(res)\n",
    "        position = c\n",
    "    return directions_res\n"
   ]
  },
  {
   "cell_type": "code",
   "execution_count": 319,
   "metadata": {},
   "outputs": [],
   "source": [
    "def go_through_directions_keyboard(code):\n",
    "    position = initialPosition\n",
    "    directions_res = []\n",
    "    for c in code:\n",
    "        c_cords = directions_keypad_coords[c]\n",
    "        actual_cords = directions_keypad_coords[position]\n",
    "        d = go_shortest_path(actual_cords, c_cords, keypad_valid_coords)\n",
    "        # d.sort()\n",
    "        d.append(directions_keypad_coords[\"A\"])\n",
    "        directions_res.append(d)\n",
    "        position = c\n",
    "    return get_directions_list_string(directions_res)"
   ]
  },
  {
   "cell_type": "code",
   "execution_count": 320,
   "metadata": {},
   "outputs": [
    {
     "name": "stdout",
     "output_type": "stream",
     "text": [
      "029A\n",
      "[['vA'], ['^A'], ['^>^A', '^^>A'], ['<<<A']] 4\n",
      "980A\n",
      "[['^^^A'], ['vA'], ['<<<A'], ['>A']] 4\n",
      "179A\n",
      "[['^vvA'], ['^^A'], ['>>A'], ['<<<A']] 4\n",
      "456A\n",
      "[['^v^vA', '^vv^A'], ['>A'], ['>A'], ['<<A']] 4\n",
      "379A\n",
      "[['^A'], ['^v^vA', '^vv^A'], ['>>A'], ['<<<A']] 4\n",
      "0\n"
     ]
    }
   ],
   "source": [
    "code = \"029A\"\n",
    "sum = 0\n",
    "for code in data:\n",
    "    print(code)\n",
    "    code_directions = go_through_numeric_keyboard(code, numeric_keyboard_coords)\n",
    "    print(code_directions, len(code_directions))\n",
    "    # second_code = go_through_directions_keyboard(code_directions)\n",
    "    # print(second_code, len(second_code))\n",
    "    # third_code = go_through_directions_keyboard(second_code)\n",
    "    # print(third_code, len(third_code))\n",
    "    # sum += len(third_code) * int(code[:-1])\n",
    "\n",
    "# print(\"<vA<AA>>^AvAA<^A>A<v<A>>^AvA^A<vA>^A<v<A>^A>AAvA^A<v<A>A>^AAAvA<^A>A\")\n",
    "# print(len(\"<vA<AA>>^AvAA<^A>A<v<A>>^AvA^A<vA>^A<v<A>^A>AAvA^A<v<A>A>^AAAvA<^A>A\"))\n",
    "print(sum)"
   ]
  }
 ],
 "metadata": {
  "kernelspec": {
   "display_name": "imageRec",
   "language": "python",
   "name": "python3"
  },
  "language_info": {
   "codemirror_mode": {
    "name": "ipython",
    "version": 3
   },
   "file_extension": ".py",
   "mimetype": "text/x-python",
   "name": "python",
   "nbconvert_exporter": "python",
   "pygments_lexer": "ipython3",
   "version": "3.12.5"
  }
 },
 "nbformat": 4,
 "nbformat_minor": 2
}
