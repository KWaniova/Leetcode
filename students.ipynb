{
 "cells": [
  {
   "cell_type": "code",
   "execution_count": 26,
   "metadata": {},
   "outputs": [],
   "source": []
  },
  {
   "cell_type": "code",
   "execution_count": 27,
   "metadata": {},
   "outputs": [
    {
     "data": {
      "text/plain": [
       "{1: {2, 3, 5}, 2: {1, 3, 6}, 3: {2, 3, 4, 6, 8}}"
      ]
     },
     "execution_count": 27,
     "metadata": {},
     "output_type": "execute_result"
    }
   ],
   "source": []
  },
  {
   "cell_type": "code",
   "execution_count": 1,
   "metadata": {},
   "outputs": [
    {
     "data": {
      "text/plain": [
       "{(1, 2): {3}, (1, 3): {2, 3}, (2, 3): {3, 6}}"
      ]
     },
     "execution_count": 1,
     "metadata": {},
     "output_type": "execute_result"
    }
   ],
   "source": [
    "from collections import defaultdict\n",
    "\n",
    "student_subject = [[1,2], [1,3], [1,5], [2,3], [2,6], [2,1], [3,8], [3,3], [3,4], [3,6], [3,2]]\n",
    "\n",
    "students_dict = defaultdict(set)\n",
    "for student, subject in student_subject:\n",
    "    students_dict[student].add(subject)\n",
    "\n",
    "students_dict\n",
    "\n",
    "results = {}\n",
    "\n",
    "students = list(students_dict.keys())\n",
    "for i in range(len(students)):\n",
    "    student_a_id = students[i]\n",
    "    subjects_a = students_dict[student_a_id]\n",
    "    for j in range(i + 1, len(students)):\n",
    "        student_b_id = students[j]\n",
    "        subjects_b = students_dict[student_b_id]\n",
    "        results[(student_a_id, student_b_id)] = subjects_a.intersection(subjects_b)\n",
    "\n",
    "results"
   ]
  },
  {
   "cell_type": "code",
   "execution_count": 29,
   "metadata": {},
   "outputs": [],
   "source": [
    "from collections import defaultdict\n",
    "from itertools import combinations\n",
    "# Example input\n",
    "student_subject_pairs = [\n",
    "    [1, 'Math'],\n",
    "    [1, 'Science'],\n",
    "    [2, 'Math'],\n",
    "    [2, 'History'],\n",
    "    [3, 'Science'],\n",
    "    [3, 'Math'],\n",
    "    [4, 'History']\n",
    "]\n"
   ]
  },
  {
   "cell_type": "code",
   "execution_count": null,
   "metadata": {},
   "outputs": [
    {
     "name": "stdout",
     "output_type": "stream",
     "text": [
      "3.06 μs ± 817 ns per loop (mean ± std. dev. of 3 runs, 10,000 loops each)\n"
     ]
    }
   ],
   "source": [
    "\n",
    "# %%timeit -r 3 -n 10000\n",
    "\n",
    "def find_common_subjects(student_subjects):\n",
    "    # Step 1: Group subjects by student\n",
    "    student_to_subjects = defaultdict(set)\n",
    "    for student, subject in student_subjects:\n",
    "        student_to_subjects[student].add(subject)\n",
    "\n",
    "    # Step 2: Find common subjects for each pair of students\n",
    "    result = []\n",
    "    students = list(student_to_subjects.keys())\n",
    "    for student1, student2 in combinations(students, 2):\n",
    "        common_subjects = student_to_subjects[student1] & student_to_subjects[student2]\n",
    "        if common_subjects:  # Only include pairs with common subjects\n",
    "            result.append(((student1, student2), list(common_subjects)))\n",
    "\n",
    "    return result\n",
    "\n",
    "\n",
    "# Call the function\n",
    "common_subjects = find_common_subjects(student_subject_pairs)\n",
    "# print(common_subjects)\n"
   ]
  },
  {
   "cell_type": "code",
   "execution_count": null,
   "metadata": {},
   "outputs": [],
   "source": [
    "#include <iostream>\n",
    "#include <vector>\n",
    "#include <set>\n",
    "#include <map>\n",
    "#include <utility>\n",
    "\n",
    "int main() {\n",
    "    // Input data: student-subject pairs\n",
    "    std::vector<std::pair<int, int>> student_subject = {\n",
    "        {1, 2}, {1, 3}, {1, 5}, {2, 3}, {2, 6}, {2, 1}, {3, 8}, {3, 3}, {3, 4}, {3, 6}, {3, 2}\n",
    "    };\n",
    "\n",
    "    // Map to hold the subjects for each student\n",
    "    std::map<int, std::set<int>> students_dict;\n",
    "\n",
    "    // Populate the students_dict with subjects for each student\n",
    "    for (const auto& pair : student_subject) {\n",
    "        int student = pair.first;\n",
    "        int subject = pair.second;\n",
    "\n",
    "        if (students_dict.find(student) == students_dict.end()) {\n",
    "            students_dict[student] = std::set<int>();\n",
    "        }\n",
    "        students_dict[student].insert(subject);\n",
    "    }\n",
    "\n",
    "    // Results map to store intersections of subjects between student pairs\n",
    "    std::map<std::pair<int, int>, std::set<int>> results;\n",
    "\n",
    "    // Get list of students\n",
    "    std::vector<int> students;\n",
    "    for (const auto& entry : students_dict) {\n",
    "        students.push_back(entry.first);\n",
    "    }\n",
    "\n",
    "    // Compare each pair of students\n",
    "    for (size_t i = 0; i < students.size(); ++i) {\n",
    "        int student_a_id = students[i];\n",
    "        const std::set<int>& subjects_a = students_dict[student_a_id];\n",
    "\n",
    "        for (size_t j = i + 1; j < students.size(); ++j) {\n",
    "            int student_b_id = students[j];\n",
    "            const std::set<int>& subjects_b = students_dict[student_b_id];\n",
    "\n",
    "            // Find intersection of subjects\n",
    "            std::set<int> intersection;\n",
    "            for (int subject : subjects_a) {\n",
    "                if (subjects_b.find(subject) != subjects_b.end()) {\n",
    "                    intersection.insert(subject);\n",
    "                }\n",
    "            }\n",
    "\n",
    "            results[{student_a_id, student_b_id}] = intersection;\n",
    "        }\n",
    "    }\n",
    "\n",
    "    // Output the results\n",
    "    for (const auto& result : results) {\n",
    "        std::pair<int, int> student_pair = result.first;\n",
    "        const std::set<int>& common_subjects = result.second;\n",
    "\n",
    "        std::cout << \"Students (\" << student_pair.first << \", \" << student_pair.second << \") have common subjects: \";\n",
    "        for (int subject : common_subjects) {\n",
    "            std::cout << subject << \" \";\n",
    "        }\n",
    "        std::cout << std::endl;\n",
    "    }\n",
    "\n",
    "    return 0;\n",
    "}\n"
   ]
  }
 ],
 "metadata": {
  "kernelspec": {
   "display_name": "imageRec",
   "language": "python",
   "name": "python3"
  },
  "language_info": {
   "codemirror_mode": {
    "name": "ipython",
    "version": 3
   },
   "file_extension": ".py",
   "mimetype": "text/x-python",
   "name": "python",
   "nbconvert_exporter": "python",
   "pygments_lexer": "ipython3",
   "version": "3.12.5"
  }
 },
 "nbformat": 4,
 "nbformat_minor": 2
}
